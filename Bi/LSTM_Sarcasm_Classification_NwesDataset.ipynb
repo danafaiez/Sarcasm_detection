{
  "nbformat": 4,
  "nbformat_minor": 0,
  "metadata": {
    "colab": {
      "name": "biLSTM Sarcasm_Classification_Presentation.ipynb",
      "provenance": [],
      "collapsed_sections": [
        "v1o75snDKwMZ",
        "QeSsoln-LCQX",
        "yTyjFotENR8b",
        "2V_U_zrxdMnY",
        "uGiHqw8kdEPm",
        "9UMIYJ0_fw-D",
        "z0g1sSfdfroo"
      ],
      "machine_shape": "hm",
      "authorship_tag": "ABX9TyM24VERaJjCiuyRYPUw6yy1",
      "include_colab_link": true
    },
    "kernelspec": {
      "display_name": "Python 3",
      "name": "python3"
    },
    "widgets": {
      "application/vnd.jupyter.widget-state+json": {
        "f884282bed2a4519a9e91867543c660b": {
          "model_module": "@jupyter-widgets/controls",
          "model_name": "HBoxModel",
          "state": {
            "_view_name": "HBoxView",
            "_dom_classes": [],
            "_model_name": "HBoxModel",
            "_view_module": "@jupyter-widgets/controls",
            "_model_module_version": "1.5.0",
            "_view_count": null,
            "_view_module_version": "1.5.0",
            "box_style": "",
            "layout": "IPY_MODEL_364d05e95e154337b11aba70992add81",
            "_model_module": "@jupyter-widgets/controls",
            "children": [
              "IPY_MODEL_98546bb0163a429a8563f028427e5b2a",
              "IPY_MODEL_cfa99dd5461e43f3b5146fc6782a039d"
            ]
          }
        },
        "364d05e95e154337b11aba70992add81": {
          "model_module": "@jupyter-widgets/base",
          "model_name": "LayoutModel",
          "state": {
            "_view_name": "LayoutView",
            "grid_template_rows": null,
            "right": null,
            "justify_content": null,
            "_view_module": "@jupyter-widgets/base",
            "overflow": null,
            "_model_module_version": "1.2.0",
            "_view_count": null,
            "flex_flow": null,
            "width": null,
            "min_width": null,
            "border": null,
            "align_items": null,
            "bottom": null,
            "_model_module": "@jupyter-widgets/base",
            "top": null,
            "grid_column": null,
            "overflow_y": null,
            "overflow_x": null,
            "grid_auto_flow": null,
            "grid_area": null,
            "grid_template_columns": null,
            "flex": null,
            "_model_name": "LayoutModel",
            "justify_items": null,
            "grid_row": null,
            "max_height": null,
            "align_content": null,
            "visibility": null,
            "align_self": null,
            "height": null,
            "min_height": null,
            "padding": null,
            "grid_auto_rows": null,
            "grid_gap": null,
            "max_width": null,
            "order": null,
            "_view_module_version": "1.2.0",
            "grid_template_areas": null,
            "object_position": null,
            "object_fit": null,
            "grid_auto_columns": null,
            "margin": null,
            "display": null,
            "left": null
          }
        },
        "98546bb0163a429a8563f028427e5b2a": {
          "model_module": "@jupyter-widgets/controls",
          "model_name": "FloatProgressModel",
          "state": {
            "_view_name": "ProgressView",
            "style": "IPY_MODEL_4e10e6c8cff74f47971b71845d513911",
            "_dom_classes": [],
            "description": "Downloading: 100%",
            "_model_name": "FloatProgressModel",
            "bar_style": "success",
            "max": 231508,
            "_view_module": "@jupyter-widgets/controls",
            "_model_module_version": "1.5.0",
            "value": 231508,
            "_view_count": null,
            "_view_module_version": "1.5.0",
            "orientation": "horizontal",
            "min": 0,
            "description_tooltip": null,
            "_model_module": "@jupyter-widgets/controls",
            "layout": "IPY_MODEL_4ceac63437a542668ff847bcb92306e2"
          }
        },
        "cfa99dd5461e43f3b5146fc6782a039d": {
          "model_module": "@jupyter-widgets/controls",
          "model_name": "HTMLModel",
          "state": {
            "_view_name": "HTMLView",
            "style": "IPY_MODEL_bb484dd6756a4138b525c282d78a75ab",
            "_dom_classes": [],
            "description": "",
            "_model_name": "HTMLModel",
            "placeholder": "​",
            "_view_module": "@jupyter-widgets/controls",
            "_model_module_version": "1.5.0",
            "value": " 232k/232k [00:00&lt;00:00, 1.50MB/s]",
            "_view_count": null,
            "_view_module_version": "1.5.0",
            "description_tooltip": null,
            "_model_module": "@jupyter-widgets/controls",
            "layout": "IPY_MODEL_f6f71ca5138143eabe3fbe3d71ecced6"
          }
        },
        "4e10e6c8cff74f47971b71845d513911": {
          "model_module": "@jupyter-widgets/controls",
          "model_name": "ProgressStyleModel",
          "state": {
            "_view_name": "StyleView",
            "_model_name": "ProgressStyleModel",
            "description_width": "initial",
            "_view_module": "@jupyter-widgets/base",
            "_model_module_version": "1.5.0",
            "_view_count": null,
            "_view_module_version": "1.2.0",
            "bar_color": null,
            "_model_module": "@jupyter-widgets/controls"
          }
        },
        "4ceac63437a542668ff847bcb92306e2": {
          "model_module": "@jupyter-widgets/base",
          "model_name": "LayoutModel",
          "state": {
            "_view_name": "LayoutView",
            "grid_template_rows": null,
            "right": null,
            "justify_content": null,
            "_view_module": "@jupyter-widgets/base",
            "overflow": null,
            "_model_module_version": "1.2.0",
            "_view_count": null,
            "flex_flow": null,
            "width": null,
            "min_width": null,
            "border": null,
            "align_items": null,
            "bottom": null,
            "_model_module": "@jupyter-widgets/base",
            "top": null,
            "grid_column": null,
            "overflow_y": null,
            "overflow_x": null,
            "grid_auto_flow": null,
            "grid_area": null,
            "grid_template_columns": null,
            "flex": null,
            "_model_name": "LayoutModel",
            "justify_items": null,
            "grid_row": null,
            "max_height": null,
            "align_content": null,
            "visibility": null,
            "align_self": null,
            "height": null,
            "min_height": null,
            "padding": null,
            "grid_auto_rows": null,
            "grid_gap": null,
            "max_width": null,
            "order": null,
            "_view_module_version": "1.2.0",
            "grid_template_areas": null,
            "object_position": null,
            "object_fit": null,
            "grid_auto_columns": null,
            "margin": null,
            "display": null,
            "left": null
          }
        },
        "bb484dd6756a4138b525c282d78a75ab": {
          "model_module": "@jupyter-widgets/controls",
          "model_name": "DescriptionStyleModel",
          "state": {
            "_view_name": "StyleView",
            "_model_name": "DescriptionStyleModel",
            "description_width": "",
            "_view_module": "@jupyter-widgets/base",
            "_model_module_version": "1.5.0",
            "_view_count": null,
            "_view_module_version": "1.2.0",
            "_model_module": "@jupyter-widgets/controls"
          }
        },
        "f6f71ca5138143eabe3fbe3d71ecced6": {
          "model_module": "@jupyter-widgets/base",
          "model_name": "LayoutModel",
          "state": {
            "_view_name": "LayoutView",
            "grid_template_rows": null,
            "right": null,
            "justify_content": null,
            "_view_module": "@jupyter-widgets/base",
            "overflow": null,
            "_model_module_version": "1.2.0",
            "_view_count": null,
            "flex_flow": null,
            "width": null,
            "min_width": null,
            "border": null,
            "align_items": null,
            "bottom": null,
            "_model_module": "@jupyter-widgets/base",
            "top": null,
            "grid_column": null,
            "overflow_y": null,
            "overflow_x": null,
            "grid_auto_flow": null,
            "grid_area": null,
            "grid_template_columns": null,
            "flex": null,
            "_model_name": "LayoutModel",
            "justify_items": null,
            "grid_row": null,
            "max_height": null,
            "align_content": null,
            "visibility": null,
            "align_self": null,
            "height": null,
            "min_height": null,
            "padding": null,
            "grid_auto_rows": null,
            "grid_gap": null,
            "max_width": null,
            "order": null,
            "_view_module_version": "1.2.0",
            "grid_template_areas": null,
            "object_position": null,
            "object_fit": null,
            "grid_auto_columns": null,
            "margin": null,
            "display": null,
            "left": null
          }
        }
      }
    }
  },
  "cells": [
    {
      "cell_type": "markdown",
      "metadata": {
        "id": "view-in-github",
        "colab_type": "text"
      },
      "source": [
        "<a href=\"https://colab.research.google.com/github/danafaiez/Sarcasm_detection/blob/main/Bi/LSTM_Sarcasm_Classification_NwesDataset.ipynb\" target=\"_parent\"><img src=\"https://colab.research.google.com/assets/colab-badge.svg\" alt=\"Open In Colab\"/></a>"
      ]
    },
    {
      "cell_type": "code",
      "metadata": {
        "colab": {
          "base_uri": "https://localhost:8080/"
        },
        "id": "OQHzgzOeEX9P",
        "outputId": "a5c9d478-3463-4ec5-a781-d3ae9f96d788"
      },
      "source": [
        "from scipy import spatial\n",
        "from pydrive.auth import GoogleAuth\n",
        "from pydrive.drive import GoogleDrive\n",
        "from google.colab import auth\n",
        "from oauth2client.client import GoogleCredentials\n",
        "from google.colab import drive\n",
        "\n",
        "auth.authenticate_user()\n",
        "project_ID ='exalted-amphora-266020'\n",
        "!gcloud config set project {project_ID}\n",
        "!gsutil ls\n",
        "\n",
        "\n",
        "from google.colab import drive\n",
        "drive.mount('/content/gdrive') \n"
      ],
      "execution_count": 1,
      "outputs": [
        {
          "output_type": "stream",
          "text": [
            "Updated property [core/project].\n",
            "gs://test_model_dana/\n",
            "Drive already mounted at /content/gdrive; to attempt to forcibly remount, call drive.mount(\"/content/gdrive\", force_remount=True).\n"
          ],
          "name": "stdout"
        }
      ]
    },
    {
      "cell_type": "markdown",
      "metadata": {
        "id": "CVpthoxxHDCg"
      },
      "source": [
        "### Sarcasm Detection\n",
        "\n",
        "### Goal: \n",
        "\n",
        "*   Detect sarcasm in text.\n",
        "\n",
        "\n",
        "### Dataset:\n",
        "\n",
        "*   [News Headlines Dataset For Sarcasm Detection](https://www.kaggle.com/rmisra/news-headlines-dataset-for-sarcasm-detection), collected from two news website:  *TheOnion* which produces sarcastic* versions of current events and *HuffPost*. \n",
        "\n",
        "#### Motivation:\n",
        "  1.   Sarcasm Detection is important for an effectice and accurate sentiment analysis and underatanding of the intention. \n",
        "\n",
        "  2.   Sarcasm Detection is especially challenging when working with text data, due to the lack of tone and facial expressions as well as the inherent dependence of sarcasm on the context.\n",
        "\n",
        "  3. Many previous studies used Twitter dataset for sarcasm detection which have the following disadvantages compared to the News Headlines dataset:\n",
        "\n",
        "    *   More likely to have spelling mistakes. This reduces the chance of finding pre-trained (meaningful) embeddings for the words.\n",
        "    *   The Twitter dataset relies on 'sarcasm' hashtangs added by the author. This can add noise to the dataset (labels).\n",
        "\n",
        "### Procedure:\n",
        "\n",
        "  1.   Load, clean, and balance the News Headline Dataset\n",
        "  2.   Prepare data for BERT; get embeddings for the headlines. \n",
        "  3.   Prepare data for LSTM.\n",
        "  4.   Build model.\n",
        "  5.   Train, hyperparameter tune, and evaluate.\n",
        "\n",
        "\n",
        "\n",
        "\n",
        "\n"
      ]
    },
    {
      "cell_type": "code",
      "metadata": {
        "id": "Dw-EaYENGZuC"
      },
      "source": [
        "!pip install transformers\n",
        "!pip install torch\n",
        "!pip install torchvision \n",
        "!pip install talos\n",
        "!pip install h5py\n",
        "!pip install wordcloud"
      ],
      "execution_count": null,
      "outputs": []
    },
    {
      "cell_type": "code",
      "metadata": {
        "id": "iJqli4hxBFP9"
      },
      "source": [
        ""
      ],
      "execution_count": 14,
      "outputs": []
    },
    {
      "cell_type": "code",
      "metadata": {
        "id": "WWEH-ueOF_gF",
        "colab": {
          "base_uri": "https://localhost:8080/"
        },
        "outputId": "2c9e6359-5e6c-4f99-99c5-627753a29a24"
      },
      "source": [
        "\n",
        "import pandas as pd\n",
        "import requests\n",
        "import numpy as np\n",
        "import string \n",
        "import re \n",
        "import time\n",
        "\n",
        "import torch\n",
        "from transformers import BertModel, BertTokenizer\n",
        "from keras.preprocessing.sequence import pad_sequences\n",
        "from sklearn.model_selection import train_test_split\n",
        "\n",
        "import tensorflow as tf\n",
        "from tensorflow import keras\n",
        "from keras.models import Sequential\n",
        "from keras.layers import Dense, LSTM, Dropout, Bidirectional, Flatten, Embedding, Concatenate\n",
        "from keras import Input\n",
        "\n",
        "\n",
        "from keras.callbacks import EarlyStopping\n",
        "from keras.callbacks import ModelCheckpoint\n",
        "from keras.callbacks import TensorBoard\n",
        "from tensorboard.plugins.hparams import api as hp\n",
        "\n",
        "from sklearn.metrics import confusion_matrix\n",
        "from sklearn import preprocessing\n",
        "\n",
        "import matplotlib.pyplot as plt\n",
        "import seaborn as sns\n",
        "from collections import Counter\n",
        "from wordcloud import WordCloud, ImageColorGenerator\n",
        "import nltk\n",
        "nltk.download('stopwords')"
      ],
      "execution_count": 3,
      "outputs": [
        {
          "output_type": "stream",
          "text": [
            "[nltk_data] Downloading package stopwords to /root/nltk_data...\n",
            "[nltk_data]   Unzipping corpora/stopwords.zip.\n"
          ],
          "name": "stdout"
        },
        {
          "output_type": "execute_result",
          "data": {
            "text/plain": [
              "True"
            ]
          },
          "metadata": {
            "tags": []
          },
          "execution_count": 3
        }
      ]
    },
    {
      "cell_type": "markdown",
      "metadata": {
        "id": "oMBSTjJaISw8"
      },
      "source": [
        "### Loading and cleaning Dataset"
      ]
    },
    {
      "cell_type": "code",
      "metadata": {
        "colab": {
          "base_uri": "https://localhost:8080/",
          "height": 35
        },
        "id": "3ZxYGn5akk2E",
        "outputId": "c0145fbf-a5ce-4dec-c55b-584830f41cb7"
      },
      "source": [
        "tf.version.VERSION"
      ],
      "execution_count": 4,
      "outputs": [
        {
          "output_type": "execute_result",
          "data": {
            "application/vnd.google.colaboratory.intrinsic+json": {
              "type": "string"
            },
            "text/plain": [
              "'2.4.1'"
            ]
          },
          "metadata": {
            "tags": []
          },
          "execution_count": 4
        }
      ]
    },
    {
      "cell_type": "code",
      "metadata": {
        "id": "H3363Y3KrZpX"
      },
      "source": [
        "def load_data(n):\n",
        "  def clean_text(headline):\n",
        "            #return headline.translate(str.maketrans(dict.fromkeys(string.punctuation))) \n",
        "            #headline = re.sub(r\"[,.;@_#?!\\\"&$:]+\", ' ', headline) \n",
        "            #headline = re.sub(r\"\\s+\", ' ', headline)\n",
        "            return headline\n",
        "\n",
        "  srcsm_json = requests.get('https://storage.googleapis.com/laurencemoroney-blog.appspot.com/sarcasm.json')\n",
        "  sentences_clean = []\n",
        "  labels = []\n",
        "  i=0\n",
        "  for item in srcsm_json.json():\n",
        "      if i<n:\n",
        "        sentences_clean.append(clean_text(item['headline']))\n",
        "        labels.append(item['is_sarcastic'])\n",
        "        i+=1\n",
        "\n",
        "  df = pd.DataFrame({'text' : sentences_clean[:], 'label':labels[:]})\n",
        "  # label 0: not-sarcastic; label 1: sarcastic\n",
        "  return df"
      ],
      "execution_count": 5,
      "outputs": []
    },
    {
      "cell_type": "code",
      "metadata": {
        "id": "Zn8tLc9qH4SG"
      },
      "source": [
        "####  News Dataset  ####\n",
        "\n",
        "def balanced_data(df):\n",
        "  # Make data balanced:\n",
        "\n",
        "  ## Get the number of sarcastic vs non-sarcastic rows  \n",
        "  def get_diff_classes(df):  \n",
        "    count_list = list(df['label'].value_counts())\n",
        "    return count_list[0]-count_list[1]\n",
        "\n",
        "  diff = get_diff_classes(df)\n",
        "\n",
        "\n",
        "  def plot_data_count(df, title):        \n",
        "    f, ax = plt.subplots(1)\n",
        "    sns.set_style('whitegrid')\n",
        "    sns.countplot(x='label',data=df, palette='YlGnBu_r', ax=ax)\n",
        "    ax.set_xticklabels([\"Non-sarcastic\",\"Sarcastic\"])\n",
        "    ax.set(title = title, xlabel='Label', ylabel='Counts')\n",
        "\n",
        "  if diff !=0:\n",
        "    plot_data_count(df, 'Counts of non/sarcastic data before balancing')\n",
        "    print('Before balancing the data, (non-sarcasic - sarcasic) sentences :', get_diff_classes(df))\n",
        "    if diff>0: datatype = 0 # remove from non-sarcasic class\n",
        "    else: datatype = 1 # remove from sarcasic class\n",
        "    np.random.seed(0)\n",
        "    drop_indices = np.random.choice(df[df['label'] == datatype].index, abs(diff), replace=False)\n",
        "    df = df.drop(drop_indices)\n",
        "    print('After balancing the data, (non-sarcasic - sarcasic) sentences :', get_diff_classes(df))\n",
        "    plot_data_count(df, 'Counts of non/sarcastic data after balancing')\n",
        "\n",
        "  print(\"df.info():\\n\",df.info())\n",
        "  print(\"There are\", len(df), \"total sentences.\\n\") \n",
        "  return df\n",
        "  "
      ],
      "execution_count": 6,
      "outputs": []
    },
    {
      "cell_type": "code",
      "metadata": {
        "id": "_ry0NOz9I7pt"
      },
      "source": [
        "####  Shuffling Dataset  ####\n",
        "def shuffle_data(df):\n",
        "  df = df.reindex(np.random.permutation(df.index))\n",
        "  print(\"Top 10 sentences and labels:\\n\", df.head(10))\n",
        "  return df"
      ],
      "execution_count": 7,
      "outputs": []
    },
    {
      "cell_type": "code",
      "metadata": {
        "id": "mB3qgVkpJENn"
      },
      "source": [
        "def get_sentences_labels(df):\n",
        "  sentences = df['text'].tolist()\n",
        "  labels = df['label'].tolist()\n",
        "  return sentences, labels"
      ],
      "execution_count": 8,
      "outputs": []
    },
    {
      "cell_type": "markdown",
      "metadata": {
        "id": "iF9yNptnKBhO"
      },
      "source": [
        "### Preparing data for BERT"
      ]
    },
    {
      "cell_type": "code",
      "metadata": {
        "id": "U9nSGL_wE5Q8",
        "colab": {
          "base_uri": "https://localhost:8080/",
          "height": 66,
          "referenced_widgets": [
            "f884282bed2a4519a9e91867543c660b",
            "364d05e95e154337b11aba70992add81",
            "98546bb0163a429a8563f028427e5b2a",
            "cfa99dd5461e43f3b5146fc6782a039d",
            "4e10e6c8cff74f47971b71845d513911",
            "4ceac63437a542668ff847bcb92306e2",
            "bb484dd6756a4138b525c282d78a75ab",
            "f6f71ca5138143eabe3fbe3d71ecced6"
          ]
        },
        "outputId": "7c68cecd-db81-4b4a-ed0a-173865dc9cf6"
      },
      "source": [
        "# bert-base-uncased : 12-layer, 768-hidden, 12-heads, 110M parameters. Trained on lower-cased English text.\n",
        "tokenizer = BertTokenizer.from_pretrained('bert-base-uncased', do_lower_case=True) "
      ],
      "execution_count": 9,
      "outputs": [
        {
          "output_type": "display_data",
          "data": {
            "application/vnd.jupyter.widget-view+json": {
              "model_id": "f884282bed2a4519a9e91867543c660b",
              "version_minor": 0,
              "version_major": 2
            },
            "text/plain": [
              "HBox(children=(FloatProgress(value=0.0, description='Downloading', max=231508.0, style=ProgressStyle(descripti…"
            ]
          },
          "metadata": {
            "tags": []
          }
        },
        {
          "output_type": "stream",
          "text": [
            "\n"
          ],
          "name": "stdout"
        }
      ]
    },
    {
      "cell_type": "markdown",
      "metadata": {
        "id": "GhIttG88pk1t"
      },
      "source": [
        "##### A quick example:"
      ]
    },
    {
      "cell_type": "code",
      "metadata": {
        "colab": {
          "base_uri": "https://localhost:8080/"
        },
        "id": "9iX2NbF5KA2u",
        "outputId": "4d4f4267-2996-4c25-8a19-e3d673a1493f"
      },
      "source": [
        "text = \"Here is the sentence I want embeddings for.\"\n",
        "marked_text = \"[CLS] \" + text + \" [SEP]\"\n",
        "\n",
        "# Tokenize our sentence with the BERT tokenizer.\n",
        "tokenized_text = tokenizer.tokenize(marked_text)\n",
        "\n",
        "# Print out the tokens.\n",
        "print(tokenized_text)"
      ],
      "execution_count": 10,
      "outputs": [
        {
          "output_type": "stream",
          "text": [
            "['[CLS]', 'here', 'is', 'the', 'sentence', 'i', 'want', 'em', '##bed', '##ding', '##s', 'for', '.', '[SEP]']\n"
          ],
          "name": "stdout"
        }
      ]
    },
    {
      "cell_type": "code",
      "metadata": {
        "id": "0Uox65MVKKCu"
      },
      "source": [
        "def tokenizer_inptID(sentences):\n",
        "  \n",
        "  # Tokenize all of the sentences and map the tokens to thier word IDs.\n",
        "  input_ids = []\n",
        "\n",
        "  for sent in sentences:\n",
        "      # `encode` will:\n",
        "      #   (1) Tokenize the sentence.\n",
        "      #   (2) Prepend the `[CLS]` token to the start (with ID 101).\n",
        "      #   (3) Append the `[SEP]` token to the end (with ID 102).\n",
        "      #   (4) Map tokens to their IDs.\n",
        "      encoded_sent = tokenizer.encode(\n",
        "                          sent,                      \n",
        "                          add_special_tokens = True, \n",
        "                    )\n",
        "      \n",
        "      \n",
        "      input_ids.append(encoded_sent)\n",
        "\n",
        "\n",
        "  return input_ids"
      ],
      "execution_count": 11,
      "outputs": []
    },
    {
      "cell_type": "code",
      "metadata": {
        "id": "gET3TWZCKPJL"
      },
      "source": [
        "# Get the length of the longest encoded sentence \n",
        "def get_max_len(input_ids):\n",
        "  MAX_LEN = max([len(sen) for sen in input_ids])\n",
        "  return MAX_LEN"
      ],
      "execution_count": 12,
      "outputs": []
    },
    {
      "cell_type": "code",
      "metadata": {
        "id": "cp_TU6DIKd8-"
      },
      "source": [
        "def padding(input_ids, MAX_LEN):\n",
        "\n",
        "  # Pad our input tokens with value 0.\n",
        "  # \"post\" indicates that we want to pad and truncate at the end of the sequence, as opposed to the beginning.\n",
        "  input_ids = pad_sequences(input_ids, maxlen=MAX_LEN, dtype=\"long\", \n",
        "                            value=0, truncating=\"post\", padding=\"post\")\n",
        "  \n",
        "  \n",
        "  return input_ids"
      ],
      "execution_count": 13,
      "outputs": []
    },
    {
      "cell_type": "code",
      "metadata": {
        "id": "bDQmlcUfKgVB"
      },
      "source": [
        "def Create_segmentsids_attentionmasks(input_ids):\n",
        "  attention_masks = []\n",
        "  segments_ids = []\n",
        "  # For each sentence...\n",
        "  for id_sent in input_ids:\n",
        "      \n",
        "      # Create the attention mask:\n",
        "      ##  If a token ID is 0, then it's padding, then set the mask to 0 otherwise it's a real token, set the mask to 1.\n",
        "      att_mask = [int(token_id > 0) for token_id in id_sent]\n",
        "      # Create the segmentation embeddings:\n",
        "      segm_id = [0 for token_id in id_sent]\n",
        "      \n",
        "      attention_masks.append(att_mask)\n",
        "      segments_ids.append(segm_id)\n",
        "  \n",
        "  \n",
        "  return attention_masks, segments_ids"
      ],
      "execution_count": 14,
      "outputs": []
    },
    {
      "cell_type": "code",
      "metadata": {
        "id": "RNJGLQJNKiTa"
      },
      "source": [
        "def get_embedding(input_ids, segments_ids, attention_masks):\n",
        "  # Convert the list of IDs to a tensor of IDs \n",
        "  #[torch.LongTensor] is an int64 data type value.\n",
        "  #[torch.Tensor] is a float32 data type value.\n",
        "  model = BertModel.from_pretrained('bert-base-uncased', output_hidden_states=False)\n",
        "  input_ids_tensor = torch.tensor(input_ids)\n",
        "  segments_tensors = torch.tensor(segments_ids) \n",
        "  attention_tensors = torch.tensor(attention_masks)\n",
        "\n",
        "\n",
        "  # Set the device to GPU (cuda) if available, otherwise stick with CPU\n",
        "  device = 'cuda' if torch.cuda.is_available() else 'cpu'\n",
        "  model = model.to(device)\n",
        "  input_ids = input_ids_tensor.to(device)\n",
        "  segments_tensors = segments_tensors.to(device)\n",
        "  attention_tensors = attention_tensors.to(device)\n",
        "  # Put the model in \"evaluation\" mode, meaning feed-forward operation.\n",
        "  model.eval()\n",
        "  \n",
        "  with torch.no_grad():\n",
        "      outputs = model(input_ids, token_type_ids=segments_tensors, attention_mask=attention_tensors)\n",
        "      # Transformers models always output tuples.\n",
        "      # The first element is the hidden state of the last layer of the Bert model\n",
        "      encoded_layers = outputs[0]\n",
        "      \n",
        "  \n",
        "\n",
        "  \n",
        "  return encoded_layers"
      ],
      "execution_count": 15,
      "outputs": []
    },
    {
      "cell_type": "markdown",
      "metadata": {
        "id": "v1o75snDKwMZ"
      },
      "source": [
        "### Preparing embeddings and labels for training/validation process"
      ]
    },
    {
      "cell_type": "code",
      "metadata": {
        "id": "YTAes_MvKsnH"
      },
      "source": [
        "def split(embedding, labels):\n",
        "  rand_state = 0\n",
        "\n",
        "  x_train, x_test, y_train, y_test = train_test_split(embedding, labels, test_size=0.1, random_state=rand_state, stratify=labels)\n",
        "  x_test, x_val, y_test, y_val     = train_test_split(x_test, y_test, test_size=0.5, random_state=rand_state, stratify=y_test)\n",
        "\n",
        "  return x_train, y_train, x_val, y_val, x_test, y_test"
      ],
      "execution_count": 16,
      "outputs": []
    },
    {
      "cell_type": "markdown",
      "metadata": {
        "id": "QeSsoln-LCQX"
      },
      "source": [
        "### Metrics"
      ]
    },
    {
      "cell_type": "code",
      "metadata": {
        "id": "NRf5BUS9K9n6"
      },
      "source": [
        "def confusion(preds, labels):\n",
        "  tn, fp, fn, tp = confusion_matrix(labels, preds).ravel()\n",
        "  return tn, fp, fn, tp\n",
        "\n",
        "def get_precision(preds, labels):\n",
        "  tn, fp, fn, tp = confusion(preds, labels) \n",
        "  return tp / (tp + fp)\n",
        "\n",
        "def get_recall(preds, labels):\n",
        "  tn, fp, fn, tp = confusion(preds, labels) \n",
        "  return tp / (tp + fn)\n",
        "\n",
        "def get_F1(preds, labels):\n",
        "  precision = get_precision(preds, labels)\n",
        "  recall = get_recall(preds, labels)\n",
        "  F1= 2*(precision*recall)/(precision+recall)\n",
        "  return F1\n",
        "\n",
        "def get_accuracy(preds, labels):\n",
        "  tn, fp, fn, tp = confusion(preds, labels) \n",
        "  accuracy = (tn+tp)/(fp+fn+tn+tp)\n",
        "  return accuracy"
      ],
      "execution_count": 17,
      "outputs": []
    },
    {
      "cell_type": "markdown",
      "metadata": {
        "id": "yTyjFotENR8b"
      },
      "source": [
        "### Build model"
      ]
    },
    {
      "cell_type": "code",
      "metadata": {
        "id": "OeKB0HCCwdeB"
      },
      "source": [
        "class Attention(tf.keras.Model):\n",
        "    def __init__(self, units):\n",
        "        super(Attention, self).__init__()\n",
        "        print(\"type(units):\",type(units))\n",
        "        print(\"units:\",units)\n",
        "        self.W1 = tf.keras.layers.Dense(units)\n",
        "        #print(\"W1.shape:\",self.W1.shape)\n",
        "        self.W2 = tf.keras.layers.Dense(units)\n",
        "        #print(\"W2.shape:\",self.W2.shape)\n",
        "        self.V = tf.keras.layers.Dense(1)\n",
        "        #print(\"V.shape:\",self.V.shape)\n",
        "\n",
        "    def call(self, features, hidden):\n",
        "        hidden_with_time_axis = tf.expand_dims(hidden, 1)\n",
        "        score = tf.nn.tanh(self.W1(features) + self.W2(hidden_with_time_axis))\n",
        "        attention_weights = tf.nn.softmax(self.V(score), axis=1)\n",
        "        context_vector = attention_weights * features\n",
        "        context_vector = tf.reduce_sum(context_vector, axis=1)\n",
        "\n",
        "        return context_vector, attention_weights"
      ],
      "execution_count": 18,
      "outputs": []
    },
    {
      "cell_type": "code",
      "metadata": {
        "id": "X5KrblzhLGXQ"
      },
      "source": [
        "def build_model(MAX_LEN, batch_size, epochs, metric, hparams, arch_name):\n",
        "\n",
        "  if arch_name == 'lstm':\n",
        "    \n",
        "    model = Sequential()\n",
        "    model.add(LSTM(hparams[HP_NUM_UNITS], input_shape=(MAX_LEN,768),return_sequences = False, activation='tanh',recurrent_dropout = hparams[HP_DROPOUT_lstm]))\n",
        "    #model.add(LSTM(hparams[HP_NUM_UNITS], return_sequences = False, activation='tanh',recurrent_dropout = hparams[HP_DROPOUT_lstm])) \n",
        "    model.add(Dropout(hparams[HP_DROPOUT]))\n",
        "    #model.add(Dense(hparams[HP_NUM_UNITS], activation='tanh'))\n",
        "    #model.add(Dropout(hparams[HP_DROPOUT]))\n",
        "    model.add(Dense(1, activation=\"sigmoid\"))\n",
        "    print(\"weights:\\n\")\n",
        "    model.layers[0].get_weights()[0]\n",
        "    \n",
        "    \n",
        "    \n",
        "  elif arch_name == 'bilstm':\n",
        "    model = Sequential()\n",
        "    model.add(Bidirectional(LSTM(hparams[HP_NUM_UNITS], return_sequences=False, activation='tanh', recurrent_dropout = hparams[HP_DROPOUT_lstm]), input_shape=(MAX_LEN,768)))\n",
        "    #model.add(Bidirectional(LSTM(hparams[HP_NUM_UNITS],return_sequences = False, activation='tanh', recurrent_dropout=0.15)))\n",
        "    model.add(Dropout(hparams[HP_DROPOUT]))\n",
        "    #model.add(Dense(50, activation='tanh'))\n",
        "    #model.add(Dropout(hparams[HP_DROPOUT]))\n",
        "    model.add(Dense(1, activation=\"sigmoid\"))\n",
        "\n",
        "  \n",
        "  elif arch_name == 'attention':\n",
        "    # Bi-directional attention + Attention\n",
        "    sequence_input = Input(shape=(MAX_LEN,768), batch_size=batch_size)\n",
        "    #print(\"sequence_input.shape:\",sequence_input.shape)\n",
        "    lstm = Bidirectional(LSTM(hparams[HP_NUM_UNITS], return_sequences=True, return_state=True, recurrent_activation='tanh', recurrent_dropout = hparams[HP_DROPOUT_lstm]))(sequence_input)\n",
        "    lstm, forward_h, forward_c, backward_h, backward_c = Bidirectional(LSTM(hparams[HP_NUM_UNITS], return_sequences = True, return_state=True, activation='tanh',recurrent_dropout = hparams[HP_DROPOUT_lstm]))(lstm)\n",
        "    #print(\"(lstm, forward_h.shape, forward_c.shape):\",lstm, forward_h.shape, forward_c.shape)\n",
        "\n",
        "    state_h = Concatenate()([forward_h, backward_h])\n",
        "    state_c = Concatenate()([forward_c, backward_c])\n",
        "    #print(\"after concatenation:\\n\")\n",
        "    #print(\"state_h.shape, state_c.shape:\",state_h.shape, state_c.shape)\n",
        "    context_vector, attention_weights = Attention(hparams[HP_NUM_UNITS])(lstm, state_h)\n",
        "\n",
        "    #print(\"context_vector.shape, attention_weights.shape:\", context_vector.shape, attention_weights.shape)\n",
        "    #dense1 = Dense(50, activation='tanh')(context_vector)\n",
        "    dropout = Dropout(hparams[HP_DROPOUT])(context_vector) #(dense1)\n",
        "    output = Dense(1, activation=\"sigmoid\")(dropout)#(context_vector) \n",
        "    model = keras.Model(inputs = sequence_input, outputs = output) \n",
        "  \n",
        "  else: raise ValueError(\"unexpected architecture name: %r\" % (arch_name,))\n",
        "  \n",
        "  loss = keras.losses.BinaryCrossentropy(from_logits=False)\n",
        "  optimizer_name = hparams[HP_OPTIMIZER]\n",
        "  learning_rate = hparams[HP_L_RATE]\n",
        "\n",
        "\n",
        "  if optimizer_name == \"adam\":\n",
        "      optimizer = tf.keras.optimizers.Adam(learning_rate = learning_rate)\n",
        "  elif optimizer_name == \"AdaDelta\":\n",
        "      optimizer = tf.keras.optimizers.Adadelta(learning_rate = learning_rate, rho=0.9, epsilon=1e-06, name=\"Adadelta\", clipnorm = 1.0) # clipnorm used?\n",
        "  else:\n",
        "      raise ValueError(\"unexpected optimizer name: %r\" % (optimizer_name,))\n",
        "\n",
        "  \n",
        "  model.compile(loss = loss, optimizer = optimizer, metrics = metric)\n",
        "  model.summary()\n",
        "\n",
        " \n",
        "  \n",
        "  return model\n",
        "  "
      ],
      "execution_count": 19,
      "outputs": []
    },
    {
      "cell_type": "code",
      "metadata": {
        "id": "N-u6ZLHqPhnj"
      },
      "source": [
        "def fit_model(model, x_train, y_train, x_val, y_val, batch_size, epochs, path, logdir, hparams):\n",
        "              \n",
        "  \n",
        "  callbacks = [EarlyStopping(monitor = 'val_accuracy', mode='max', verbose=1, patience=2), \n",
        "               ModelCheckpoint(path, monitor = 'val_accuracy', mode='max', verbose=1, save_best_only=True),\n",
        "               TensorBoard(log_dir=logdir, histogram_freq=1),  \n",
        "               hp.KerasCallback(logdir, hparams)  \n",
        "               ]\n",
        "\n",
        "  # The returned \"out_model\" object holds a record of the loss values and metric values during training: \n",
        "  out_model = model.fit(x_train, y_train, validation_data = (x_val, y_val), batch_size = batch_size, \n",
        "                        epochs = epochs, shuffle=True, callbacks=callbacks, verbose=1)\n",
        "  \n",
        "  return out_model\n",
        "  "
      ],
      "execution_count": 20,
      "outputs": []
    },
    {
      "cell_type": "code",
      "metadata": {
        "id": "0hN3HjCcPlwS"
      },
      "source": [
        "def evaluate(model, x_test, y_test, batch_sizem):\n",
        "  \n",
        "  print(\"evaluate on test dataset:\\n\")\n",
        "  print(\"model.evaluate(x_test, y_test, batch_size , verbose=1):\",model.evaluate(x_test, y_test, batch_size , verbose=1)) ## check if needed\n",
        "  loss_test, acc_test, auc_test =  model.evaluate(x_test, y_test, batch_size, verbose=1)\n",
        "  \n",
        "  return loss_test, acc_test, auc_test"
      ],
      "execution_count": 21,
      "outputs": []
    },
    {
      "cell_type": "markdown",
      "metadata": {
        "id": "0LFuLC8oPvCe"
      },
      "source": [
        "##  Begin Loading data and training  "
      ]
    },
    {
      "cell_type": "code",
      "metadata": {
        "colab": {
          "base_uri": "https://localhost:8080/"
        },
        "id": "Fq0xwMkbPm1B",
        "outputId": "43c7d4d3-87a3-4011-dac1-9b684770f625"
      },
      "source": [
        "\n",
        "# Getting and cleaning the data \n",
        "start_time = time.time()\n",
        "n =  22692  \n",
        "\n",
        "df = load_data(n)\n",
        "\n",
        "df = balanced_data(df)\n",
        "\n",
        "df = shuffle_data(df)\n",
        "\n",
        "sentences, labels = get_sentences_labels(df)\n",
        "\n",
        "print(\"total number of sentences:\", len(sentences))\n",
        "# Tokenizing \n",
        "input_ids = tokenizer_inptID(sentences)\n",
        "MAX_LEN = get_max_len(input_ids)\n",
        "print(\"MAX_LEN:\",MAX_LEN)\n",
        "\n",
        "\n",
        "# Input ID, Segment ID, and attention mask\n",
        "partition_size = 5000  #250\n",
        "input_ids_pad = []; start = 0\n",
        "for i in range(1, 5):\n",
        "  m = partition_size*i\n",
        "  input_ids_pad.extend(list(padding(input_ids[start:m], MAX_LEN)))\n",
        "  start = m\n",
        "input_ids = np.array(input_ids_pad)\n",
        "\n",
        "attention_masks, segments_ids = Create_segmentsids_attentionmasks(input_ids)\n",
        "\n",
        "# Get the embeddings\n",
        "partition_size = 5000 #250\n",
        "res = [] ; start = 0\n",
        "input_ids_list = list(input_ids)\n",
        "\n",
        "for i in range(1,5):\n",
        "  m = partition_size*i\n",
        "  print(\"start\")\n",
        "  temp = get_embedding(input_ids_list[start:m], segments_ids[start:m], attention_masks[start:m])\n",
        "  print(\"Done i:\", i)\n",
        "  res.append(temp)\n",
        "  start = m\n",
        "\n",
        "encoded_layers =  torch.cat(res,dim=0)\n",
        "labels = np.array(labels)\n",
        "\n",
        "\n",
        "#normalizing data\n",
        "def normalize(norm_option, embedding):\n",
        "  input = []\n",
        "  if norm_option == 'min_max_scaler': #[0,1]\n",
        "    min_max_scaler = preprocessing.MinMaxScaler()\n",
        "    embedding = np.array([min_max_scaler.fit_transform(sent) for sent in embedding])\n",
        "\n",
        "  elif norm_option == 'max_abs_scaler': #[-1,1]  #\n",
        "    max_abs_scaler = preprocessing.MaxAbsScaler()\n",
        "    embedding = np.array([max_abs_scaler.fit_transform(sent) for sent in embedding])\n",
        "\n",
        "  elif norm_option == 'Unit_norm':\n",
        "    embedding = np.array([preprocessing.normalize(sent, norm='l2') for sent in embedding])\n",
        "  return embedding \n",
        "\n",
        "\n",
        "start_time = time.time()\n",
        "# metric\n",
        "metric = [keras.metrics.BinaryAccuracy(name='accuracy'), keras.metrics.AUC(name='auc')]\n",
        "\n",
        "####### Hyper param tuning #######\n",
        "\n",
        "#Clear any logs from previous runs\n",
        "!rm -rf ./logs/* \n",
        "\n",
        "HP_NUM_UNITS = hp.HParam('num_units', hp.Discrete([40])) \n",
        "HP_DROPOUT = hp.HParam('dropout', hp.Discrete([0.70]))\n",
        "HP_OPTIMIZER = hp.HParam('optimizer', hp.Discrete(['AdaDelta']))\n",
        "HP_L_RATE = hp.HParam('learning_rate', hp.Discrete([1.0]))\n",
        "HP_DROPOUT_lstm = hp.HParam('dropout_lsm', hp.Discrete([0.15]))\n",
        "\n",
        "hp_dict = {'hidden_units' : HP_NUM_UNITS, 'dropout': HP_DROPOUT, 'optimizer': HP_OPTIMIZER, 'lr':HP_L_RATE,'dropout_lstm': HP_DROPOUT_lstm}\n",
        "\n",
        "batch_size = 32 #20 \n",
        "epochs = 10\n",
        "\n",
        "\n",
        "def run(logdir, hparams, xtrain, ytrain, xval, yval, xtest, ytest, path_session, best_weights, eval, arch_name):\n",
        "  with tf.summary.create_file_writer(logdir).as_default():\n",
        "    hp.hparams(hparams)  # record the values used in this trial\n",
        "    model = build_model(MAX_LEN, batch_size, epochs, metric, hparams, arch_name) \n",
        "    dot_img_file = '/content/model_1.png'\n",
        "    tf.keras.utils.plot_model(model, to_file = dot_img_file, show_shapes=True)\n",
        "\n",
        "    if eval==False:\n",
        "      out_model = fit_model(model, xtrain, ytrain, xval, yval, batch_size, epochs, path_session, logdir, hparams)\n",
        "      valacc = (out_model.history['val_accuracy'])\n",
        "      valauc = (out_model.history['val_auc'])\n",
        "      print('val_acc:', valacc[-1], 'val_auc:', valauc[-1])\n",
        "      tf.summary.scalar('accuracy', valacc[-1], step = epochs) \n",
        "    \n",
        "    else:  \n",
        "      model.load_weights(best_weights)\n",
        "      loss_test, acc_test, auc_test =  model.evaluate(xtest, ytest, batch_size, verbose=1)\n",
        "      print(\"loss_test:\", loss_test, \"acc_test:\", acc_test, \"auc_test:\", auc_test)\n",
        "\n",
        "      pred = model.predict(xtest)\n",
        "      #print(\"pred:\",pred)\n",
        "      print(\"len of test dataset:\", len(pred))\n",
        "      for thresh in np.linspace(0.3, 0.7, num=5):\n",
        "        pred_temp = [int(prob > thresh) for prob in pred]      \n",
        "        \n",
        "        print(\"#### Threshold: ####\" , thresh)\n",
        "        (tn, fp, fn, tp) = confusion(pred_temp, ytest)\n",
        "        print(\"False predictions of non-sarcasm:\", fn)\n",
        "        print(\"False predictions of sarcasm:\", fp)\n",
        "        print(\"True predictions of non-sarcasm:\", tn)\n",
        "        print(\"True predictions of sarcasm:\", tp)\n",
        "\n",
        "        print(\"Precision:\", get_precision(pred_temp, ytest))\n",
        "        print(\"Recall:\", get_recall(pred_temp, ytest))\n",
        "        print(\"F1:\", get_F1(pred_temp, ytest))\n",
        "        print(\"Accuracy:\", get_accuracy(pred_temp, ytest))\n",
        "        print('\\n')\n",
        "    return model \n",
        "      \n",
        "    \n",
        "\n",
        "def run_tensorboard(hp_dict, best_weights, eval, arch_name, norm, norm_options):\n",
        "  session_num = 0\n",
        "  for num_units in hp_dict['hidden_units'].domain.values:\n",
        "    for dropout_rate in hp_dict['dropout'].domain.values: \n",
        "        for opt in hp_dict['optimizer'].domain.values:\n",
        "          for learning_rate in hp_dict['lr'].domain.values:\n",
        "            for dropout_rate_lstm in hp_dict['dropout_lstm'].domain.values:\n",
        "                hparams = {\n",
        "                    HP_NUM_UNITS : num_units,\n",
        "                    HP_DROPOUT : dropout_rate,\n",
        "                    HP_OPTIMIZER : opt,\n",
        "                    HP_L_RATE : learning_rate,\n",
        "                    HP_DROPOUT_lstm : dropout_rate_lstm, \n",
        "\n",
        "                }\n",
        "                # Preperaing the data for training\n",
        "                embedding = encoded_layers.numpy() \n",
        "\n",
        "                if norm == True:\n",
        "                  for norm_option in norm_options:\n",
        "                    print(\"_____norm_option_____:\", norm_option)\n",
        "                    embedding = normalize(norm_options, embedding)\n",
        "                    x_train, y_train, x_val, y_val, x_test, y_test = split(embedding, labels)  \n",
        "                    run_name = \"run-%d\" % session_num\n",
        "                    print('---- Starting trial ----: %s' % run_name)\n",
        "                    print({h.name: hparams[h] for h in hparams})\n",
        "                    path_session = \"file_\" + str(session_num) + \".hdf5\" # Best weights are saved here for each set of hyperparameters\n",
        "                    model = run('logs/hptune_2/' + run_name, hparams, x_train, y_train, x_val, y_val, x_test, y_test, path_session, best_weights, eval, arch_name)\n",
        "                    session_num += 1\n",
        "                    print(\"\\n\")\n",
        "                else:\n",
        "                  print(\"_____norm_option_____:\" + \" not normalizing\")\n",
        "                  x_train, y_train, x_val, y_val, x_test, y_test = split(embedding, labels)  \n",
        "                  run_name = \"run-%d\" % session_num\n",
        "                  print('---- Starting trial ----: %s' % run_name)\n",
        "                  print({h.name: hparams[h] for h in hparams})\n",
        "                  path_session = \"file_\" + str(session_num) + \".hdf5\"\n",
        "                  model = run('logs/hptune_2/' + run_name, hparams, x_train, y_train, x_val, y_val, x_test, y_test, path_session, best_weights, eval, arch_name)\n",
        "                  session_num += 1\n",
        "                  print(\"\\n\")\n",
        "\n",
        "  return model\n",
        "#######  Tune Hyperparameter on Validation Dataset and Save the Best Weights #######\n",
        "#norm_options = ['min_max_scaler', 'max_abs_scaler','Unit_norm']\n",
        "model = run_tensorboard(hp_dict, best_weights=None, eval = False, arch_name = 'bilstm', norm = False, norm_options = ['Unit_norm']) #'attention', 'bilstm', 'lstm'\n",
        "print(\"time to train/evaluate:\\n\")\n",
        "print(\"%s\" % (time.time() - start_time))\n"
      ],
      "execution_count": null,
      "outputs": [
        {
          "output_type": "stream",
          "text": [
            "_____norm_option_____: not normalizing\n",
            "---- Starting trial ----: run-0\n",
            "{'num_units': 40, 'dropout': 0.7, 'optimizer': 'AdaDelta', 'learning_rate': 1.0, 'dropout_lsm': 0.15}\n",
            "Model: \"sequential_4\"\n",
            "_________________________________________________________________\n",
            "Layer (type)                 Output Shape              Param #   \n",
            "=================================================================\n",
            "bidirectional_4 (Bidirection (None, 80)                258880    \n",
            "_________________________________________________________________\n",
            "dropout_4 (Dropout)          (None, 80)                0         \n",
            "_________________________________________________________________\n",
            "dense_4 (Dense)              (None, 1)                 81        \n",
            "=================================================================\n",
            "Total params: 258,961\n",
            "Trainable params: 258,961\n",
            "Non-trainable params: 0\n",
            "_________________________________________________________________\n",
            "Epoch 1/10\n",
            "563/563 [==============================] - 83s 140ms/step - loss: 0.4654 - accuracy: 0.7738 - auc: 0.8531 - val_loss: 0.3467 - val_accuracy: 0.8440 - val_auc: 0.9447\n",
            "\n",
            "Epoch 00001: val_accuracy improved from -inf to 0.84400, saving model to file_0.hdf5\n",
            "Epoch 2/10\n",
            "563/563 [==============================] - 76s 136ms/step - loss: 0.3083 - accuracy: 0.8707 - auc: 0.9416 - val_loss: 0.2835 - val_accuracy: 0.8780 - val_auc: 0.9545\n",
            "\n",
            "Epoch 00002: val_accuracy improved from 0.84400 to 0.87800, saving model to file_0.hdf5\n",
            "Epoch 3/10\n",
            "563/563 [==============================] - 76s 135ms/step - loss: 0.2537 - accuracy: 0.8992 - auc: 0.9601 - val_loss: 0.2774 - val_accuracy: 0.8840 - val_auc: 0.9645\n",
            "\n",
            "Epoch 00003: val_accuracy improved from 0.87800 to 0.88400, saving model to file_0.hdf5\n",
            "Epoch 4/10\n",
            "563/563 [==============================] - 76s 134ms/step - loss: 0.2184 - accuracy: 0.9123 - auc: 0.9705 - val_loss: 0.2845 - val_accuracy: 0.8750 - val_auc: 0.9621\n",
            "\n",
            "Epoch 00004: val_accuracy did not improve from 0.88400\n",
            "Epoch 5/10\n",
            "563/563 [==============================] - 77s 137ms/step - loss: 0.1888 - accuracy: 0.9286 - auc: 0.9778 - val_loss: 0.2422 - val_accuracy: 0.8970 - val_auc: 0.9701\n",
            "\n",
            "Epoch 00005: val_accuracy improved from 0.88400 to 0.89700, saving model to file_0.hdf5\n",
            "Epoch 6/10\n",
            "563/563 [==============================] - 77s 137ms/step - loss: 0.1638 - accuracy: 0.9386 - auc: 0.9832 - val_loss: 0.2441 - val_accuracy: 0.9060 - val_auc: 0.9689\n",
            "\n",
            "Epoch 00006: val_accuracy improved from 0.89700 to 0.90600, saving model to file_0.hdf5\n",
            "Epoch 7/10\n",
            "563/563 [==============================] - 77s 137ms/step - loss: 0.1373 - accuracy: 0.9507 - auc: 0.9875 - val_loss: 0.2943 - val_accuracy: 0.8920 - val_auc: 0.9656\n",
            "\n",
            "Epoch 00007: val_accuracy did not improve from 0.90600\n",
            "Epoch 8/10\n",
            "563/563 [==============================] - 76s 135ms/step - loss: 0.1078 - accuracy: 0.9610 - auc: 0.9918 - val_loss: 0.2534 - val_accuracy: 0.9020 - val_auc: 0.9683\n",
            "\n",
            "Epoch 00008: val_accuracy did not improve from 0.90600\n",
            "Epoch 00008: early stopping\n",
            "val_acc: 0.9020000100135803 val_auc: 0.9683480262756348\n",
            "\n",
            "\n",
            "time to train/evaluate:\n",
            "\n",
            "622.7865762710571\n"
          ],
          "name": "stdout"
        }
      ]
    },
    {
      "cell_type": "code",
      "metadata": {
        "colab": {
          "base_uri": "https://localhost:8080/"
        },
        "id": "q7akRLzc2lRI",
        "outputId": "23ac65fb-4730-41fe-f91b-d389eb55c1d5"
      },
      "source": [
        "input_ids.shape"
      ],
      "execution_count": null,
      "outputs": [
        {
          "output_type": "execute_result",
          "data": {
            "text/plain": [
              "(20000, 66)"
            ]
          },
          "metadata": {
            "tags": []
          },
          "execution_count": 23
        }
      ]
    },
    {
      "cell_type": "code",
      "metadata": {
        "id": "GNK3_kL0QSQB"
      },
      "source": [
        "\n",
        "%reload_ext tensorboard\n",
        "%load_ext tensorboard \n",
        "%tensorboard --logdir logs/hptune_2\n"
      ],
      "execution_count": null,
      "outputs": []
    },
    {
      "cell_type": "code",
      "metadata": {
        "id": "UgdrsuyiV66F"
      },
      "source": [
        "\n",
        "#######  Evaluating on Test Dataset  #######\n",
        "HP_NUM_UNITS = hp.HParam('num_units', hp.Discrete([40])) \n",
        "HP_DROPOUT = hp.HParam('dropout', hp.Discrete([0.7])) \n",
        "HP_OPTIMIZER = hp.HParam('optimizer', hp.Discrete(['AdaDelta']))\n",
        "HP_L_RATE = hp.HParam('learning_rate', hp.Discrete([1.0]))\n",
        "HP_DROPOUT_lstm = hp.HParam('dropout_lsm', hp.Discrete([0.15]))\n",
        "\n",
        "hp_dict_opt = {'hidden_units' : HP_NUM_UNITS, 'dropout': HP_DROPOUT, 'optimizer': HP_OPTIMIZER, 'lr':HP_L_RATE,'dropout_lstm': HP_DROPOUT_lstm}\n",
        "\n",
        "best_weights = None ## add the file with best weights here\n",
        "best_weights='/content/file_0.hdf5' \n",
        "\n",
        "\n",
        "#model = run_tensorboard(hp_dict_opt, x_train, y_train, x_test, y_test, best_weights, eval = True, arch_name = 'bilstm')\n",
        "model = run_tensorboard(hp_dict, best_weights=best_weights, eval = True, arch_name = 'bilstm', norm = False, norm_options = ['Unit_norm'])\n"
      ],
      "execution_count": null,
      "outputs": []
    },
    {
      "cell_type": "markdown",
      "metadata": {
        "id": "2V_U_zrxdMnY"
      },
      "source": [
        "### Prediction on a sentence"
      ]
    },
    {
      "cell_type": "code",
      "metadata": {
        "id": "S57Q7u9r8GMF"
      },
      "source": [
        "# Prediction\n",
        "def prediction(sentence):\n",
        "  print(\"tokens:\",tokenizer.tokenize(sentence[0]))\n",
        "  input_ids = tokenizer_inptID(sentence)\n",
        "  print(\"input_ids:\",input_ids)\n",
        "  MAX_LEN = 7\n",
        "  input_ids = padding(input_ids, MAX_LEN)\n",
        "  attention_masks, segments_ids = Create_segmentsids_attentionmasks(input_ids)\n",
        "  # Get the embeddings\n",
        "  embedded_sent = get_embedding(input_ids, segments_ids, attention_masks)\n",
        "  \n",
        "\n",
        "  out = embedded_sent.numpy() \n",
        "  pred = model.predict(out)\n",
        "  \n",
        "  print(\"pred:\", pred)\n",
        "  if pred[0][0]*100>=50: return \"It's a sarcasm\"\n",
        "  else: return \"It's not a sarcasm\"\n",
        "\n",
        "\n",
        "\n",
        "\n",
        "s = [\"This is a test case\"]\n",
        "prediction(s)\n"
      ],
      "execution_count": null,
      "outputs": []
    },
    {
      "cell_type": "code",
      "metadata": {
        "id": "ERZnwZZSNlvh"
      },
      "source": [
        ""
      ],
      "execution_count": null,
      "outputs": []
    },
    {
      "cell_type": "markdown",
      "metadata": {
        "id": "uGiHqw8kdEPm"
      },
      "source": [
        "### tf-idf"
      ]
    },
    {
      "cell_type": "code",
      "metadata": {
        "id": "-xvX83Oi8oph"
      },
      "source": [
        "def get_data_wpunc(n):\n",
        "  srcsm_json = requests.get('https://storage.googleapis.com/laurencemoroney-blog.appspot.com/sarcasm.json')\n",
        "  sentences_clean = []\n",
        "  labels = []\n",
        "  i=0\n",
        "  for item in srcsm_json.json():\n",
        "      #if i<n:\n",
        "        sentences_clean.append(item['headline'])\n",
        "        labels.append(item['is_sarcastic'])\n",
        "        i+=1\n",
        "  df = pd.DataFrame({'text' : sentences_clean[:], 'label':labels[:]})\n",
        "  print(i)\n",
        "  return df\n",
        "\n",
        "def get_sample(m, df):\n",
        "  #sample_df : a sample of df, inclusing m sarcastic and m snon-sarcastic sentences:\n",
        "  sample_df = pd.concat([df[df['label'] == 0].sample(m, random_state=1) , df[df['label'] == 1].sample(m,random_state=1)], axis=0)\n",
        "  print(\"sample_df:\",len(sample_df))\n",
        "  # all the non-sarcastic sentences joined together, similarly for non-sarcastic sentences\n",
        "  sample_sentences = sample_df.groupby(['label'])['text'].apply(' '.join).reset_index() \n",
        "  documentA = (str(sample_sentences.loc[0,['text']]).split(' ',1)[1]).strip()\n",
        "  documentB = (str(sample_sentences.loc[1,['text']]).split(' ',1)[1]).strip()\n",
        "\n",
        "  pd.options.display.max_colwidth = 12441\n",
        "  #print(\"documentA:\\n\", sample_sentences.loc[0,['text']])\n",
        "  #print(\"documentA:\\n\", len(documentA))\n",
        "  return documentA, documentB"
      ],
      "execution_count": 22,
      "outputs": []
    },
    {
      "cell_type": "code",
      "metadata": {
        "id": "9hpJFRCmi0mS",
        "colab": {
          "base_uri": "https://localhost:8080/",
          "height": 1000
        },
        "outputId": "a78f05b2-fd4b-4729-8abc-81095d2bac82"
      },
      "source": [
        "\n",
        "#tf-idf of sample data and punctuation plot\n",
        "from nltk.corpus import stopwords\n",
        "stopwords = stopwords.words('english')\n",
        "from nltk.stem import PorterStemmer \n",
        "from nltk.tokenize import word_tokenize \n",
        "from nltk.corpus import stopwords\n",
        "import string\n",
        "from sklearn.feature_extraction.text import TfidfVectorizer\n",
        "from collections import defaultdict\n",
        "\n",
        "\n",
        "table = str.maketrans(dict.fromkeys(string.punctuation)) \n",
        "stopwords = stopwords.words('english')\n",
        "ps = PorterStemmer() \n",
        "  \n",
        "n = 26709 \n",
        "\n",
        "\n",
        "df = get_data_wpunc(n)\n",
        "df = balanced_data(df)\n",
        "d = df.to_dict(\"list\")\n",
        "labels = d['label']\n",
        "sentences_clean = d['text']\n",
        "m = int(len(df)/2)\n",
        "documentA, documentB = get_sample(m, df)\n",
        "\n",
        "def get_punctuation_dict(sentences_clean,labels):\n",
        "  d_punc = defaultdict(list)\n",
        "  symbols = \"?!:,-\\\"\"\n",
        "  for symbol in symbols:\n",
        "    count_nc=0; count_c=0\n",
        "    for i, sent in enumerate(sentences_clean):\n",
        "      count = sent.count(symbol)\n",
        "      if labels[i]==0:count_nc+=count\n",
        "      else:count_c+=count\n",
        "    d_punc[symbol].append(count_nc)\n",
        "    d_punc[symbol].append(count_c)\n",
        "\n",
        "  print(\"d_punc:\", d_punc)\n",
        "\n",
        "  data = [[list(d_punc.values())[i][0] for i in range(len(symbols))], [list(d_punc.values())[i][1] for i in range(len(symbols))]]\n",
        "  print(\"len(data):\", len(data))\n",
        "\n",
        "  # plot\n",
        "  X = np.arange(6)\n",
        "  fig = plt.figure()\n",
        "  ax = fig.add_axes([0,0,1,1])\n",
        "  ax.bar(X + 0.00, data[0], color = 'b', width = 0.25, label='non-Sarcastic')\n",
        "  ax.bar(X + 0.25, data[1], color = 'g', width = 0.25, label='Sarcastic')\n",
        "  labels = [\"?\",\"?\",\"!\",\":\",\",\",\"-\",\"\\\"\"]\n",
        "  ax.xaxis.set_tick_params(labelsize=17)\n",
        "  ax.set_xticklabels(labels)\n",
        "  ax.legend()\n",
        "\n",
        "#plot punctuation plot\n",
        "get_punctuation_dict(sentences_clean,labels)\n",
        "\n",
        "def clean_text(data):\n",
        "    data = data.translate(table)  \n",
        "    data = data.lower()\n",
        "    data = re.sub(r\"[,.;@_#?!\\\"&$:]+\", ' ', data) \n",
        "    data = re.sub(r\"\\s+\", ' ', data)\n",
        "    data_split = [ps.stem(w) for w in data.split(' ') if w not in stopwords]\n",
        "    data = ' '.join(data_split)\n",
        "    return data, data_split\n",
        "\n",
        "documentA, bagOfWordsA = clean_text(documentA) # non-sarcastic\n",
        "documentB, bagOfWordsB = clean_text(documentB) # sarcastic\n",
        "uniqueWords = set(bagOfWordsA).union(set(bagOfWordsB))\n",
        "\n",
        "corpus = [documentA, documentB]\n",
        "\n",
        "vectorizer = TfidfVectorizer(ngram_range=(1, 1), min_df=1)\n",
        "X = vectorizer.fit_transform(corpus)\n",
        "feature_names = vectorizer.get_feature_names()\n",
        "#print(feature_name)\n",
        "\n",
        "def get_ifidf_for_words(text):\n",
        "    tfidf_matrix= vectorizer.transform([text]).todense()\n",
        "    feature_index = tfidf_matrix[0,:].nonzero()[1]\n",
        "    tfidf_scores = zip([feature_names[i] for i in feature_index], [tfidf_matrix[0, x] for x in feature_index])\n",
        "    return dict(tfidf_scores)\n",
        "\n",
        "feature_dict_nc = get_ifidf_for_words(documentA)\n",
        "feature_dict_nc = {k: v for k, v in sorted(feature_dict_nc.items(), key=lambda item: item[1], reverse=True)}\n",
        "feature_dict_c = get_ifidf_for_words(documentB)\n",
        "feature_dict_c = {k: v for k, v in sorted(feature_dict_c.items(), key=lambda item: item[1], reverse=True)}\n"
      ],
      "execution_count": 23,
      "outputs": [
        {
          "output_type": "stream",
          "text": [
            "26709\n",
            "Before balancing the data, (non-sarcasic - sarcasic) sentences : 3261\n",
            "After balancing the data, (non-sarcasic - sarcasic) sentences : 0\n",
            "<class 'pandas.core.frame.DataFrame'>\n",
            "Int64Index: 23448 entries, 0 to 26706\n",
            "Data columns (total 2 columns):\n",
            " #   Column  Non-Null Count  Dtype \n",
            "---  ------  --------------  ----- \n",
            " 0   text    23448 non-null  object\n",
            " 1   label   23448 non-null  int64 \n",
            "dtypes: int64(1), object(1)\n",
            "memory usage: 1.2+ MB\n",
            "df.info():\n",
            " None\n",
            "There are 23448 total sentences.\n",
            "\n",
            "sample_df: 23448\n",
            "d_punc: defaultdict(<class 'list'>, {'?': [585, 91], '!': [135, 31], ':': [1391, 764], ',': [1851, 1424], '-': [1709, 2641], '\"': [84, 15]})\n",
            "len(data): 2\n"
          ],
          "name": "stdout"
        },
        {
          "output_type": "display_data",
          "data": {
            "image/png": "[encoded data removed]",
            "text/plain": [
              "<Figure size 432x288 with 1 Axes>"
            ]
          },
          "metadata": {
            "tags": [],
            "needs_background": "light"
          }
        },
        {
          "output_type": "display_data",
          "data": {
            "image/png": "[encoded data removed]",
            "text/plain": [
              "<Figure size 432x288 with 1 Axes>"
            ]
          },
          "metadata": {
            "tags": []
          }
        },
        {
          "output_type": "display_data",
          "data": {
            "image/png": "[encoded data removed]",
            "text/plain": [
              "<Figure size 432x288 with 1 Axes>"
            ]
          },
          "metadata": {
            "tags": []
          }
        }
      ]
    },
    {
      "cell_type": "code",
      "metadata": {
        "id": "SWAV3K0_IkZW"
      },
      "source": [
        ""
      ],
      "execution_count": null,
      "outputs": []
    },
    {
      "cell_type": "code",
      "metadata": {
        "id": "eWObsoYYEiIk"
      },
      "source": [
        "def word_could(list_words):\n",
        "    word_could_dict=Counter(list_words)\n",
        "    print(\"word_could_dict:\",word_could_dict)\n",
        "    word_could_dict = {k:v for k,v in word_could_dict.items() if v!=0}\n",
        "    word_could_dict.pop('', None)\n",
        "    wordcloud = WordCloud(width = 1000, height = 500).generate_from_frequencies(word_could_dict)\n",
        "    plt.figure(figsize=(15,8))\n",
        "    plt.imshow(wordcloud)\n",
        "    plt.axis(\"off\")"
      ],
      "execution_count": 32,
      "outputs": []
    },
    {
      "cell_type": "markdown",
      "metadata": {
        "id": "9UMIYJ0_fw-D"
      },
      "source": [
        "#### Most important words in non-sarcastic text"
      ]
    },
    {
      "cell_type": "code",
      "metadata": {
        "id": "WPJOrcviRkal"
      },
      "source": [
        "word_could(feature_dict_c)"
      ],
      "execution_count": null,
      "outputs": []
    },
    {
      "cell_type": "markdown",
      "metadata": {
        "id": "z0g1sSfdfroo"
      },
      "source": [
        "#### Most important words in sarcastic text:"
      ]
    },
    {
      "cell_type": "code",
      "metadata": {
        "id": "uPkHUgEzR4xE"
      },
      "source": [
        "word_could(feature_dict_nc)"
      ],
      "execution_count": null,
      "outputs": []
    },
    {
      "cell_type": "code",
      "metadata": {
        "id": "d99yhrhmR9Lu"
      },
      "source": [
        "c_nc = Counter(bagOfWordsA)\n",
        "c_nc = {k:v for k,v in c_nc.items() if v!=0}\n",
        "c_nc.pop('', None)\n",
        "cA={k: v for k, v in sorted(c_nc.items(), key=lambda item: item[1], reverse=True)}\n",
        "#print(cA)\n",
        "word_could(cA)"
      ],
      "execution_count": null,
      "outputs": []
    },
    {
      "cell_type": "code",
      "metadata": {
        "id": "iPWIf4us6Qxt"
      },
      "source": [
        "c_c = Counter(bagOfWordsB)\n",
        "c_c = {k:v for k,v in c_c.items() if v!=0}\n",
        "c_c.pop('', None)\n",
        "cB={k: v for k, v in sorted(c_c.items(), key=lambda item: item[1], reverse=True)}\n",
        "#print(cB)\n",
        "word_could(cB)"
      ],
      "execution_count": null,
      "outputs": []
    }
  ]
}